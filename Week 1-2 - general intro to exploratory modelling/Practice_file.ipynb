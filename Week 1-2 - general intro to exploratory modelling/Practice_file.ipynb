{
 "cells": [
  {
   "cell_type": "code",
   "execution_count": 2,
   "metadata": {},
   "outputs": [
    {
     "name": "stdout",
<<<<<<< HEAD
     "text": "hello\nHello Francesco how are you?\nWhat happens if I make changes and you make changes to it?\n"
=======
     "output_type": "stream",
     "text": [
      "hello\n",
      "Hello Francesco how are you?\n"
     ]
>>>>>>> 84392c9c33ea4a8b9edf0bfb9730dcc6cb535c19
    }
   ],
   "source": [
    "print(\"hello\")\n",
    "\n",
    "print(\"Hello Francesco how are you?\")\n",
    "\n",
<<<<<<< HEAD
    "print(\"What happens if I make changes and you make changes to it?\")"
=======
    "print(\"Veeeery good! And you?\")"
>>>>>>> 84392c9c33ea4a8b9edf0bfb9730dcc6cb535c19
   ]
  }
 ],
 "metadata": {
  "kernelspec": {
   "display_name": "Python 3",
   "language": "python",
   "name": "python3"
  },
  "language_info": {
   "codemirror_mode": {
    "name": "ipython",
    "version": 3
   },
   "file_extension": ".py",
   "mimetype": "text/x-python",
   "name": "python",
   "nbconvert_exporter": "python",
   "pygments_lexer": "ipython3",
   "version": "3.7.4-final"
  }
 },
 "nbformat": 4,
 "nbformat_minor": 4
}
