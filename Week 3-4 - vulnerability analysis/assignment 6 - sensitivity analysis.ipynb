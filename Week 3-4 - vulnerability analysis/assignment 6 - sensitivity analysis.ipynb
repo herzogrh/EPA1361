{
 "cells": [
  {
   "cell_type": "markdown",
   "metadata": {},
   "source": [
    "# EPA1361 - Model-Based Decision Making\n",
    "# Week 3 - Sensitivity analysis\n",
    "\n",
    "This exercise uses the same predator-prey model we used for the multi-model exercise, focusing on the Python version. As with the other exercise, define a model object for the function below, with the uncertainty ranges provided:\n",
    "\n",
    "|Parameter\t|Range or value\t        |\n",
    "|-----------|--------------:|\n",
    "|prey_birth_rate    \t|0.015 – 0.035\t|\n",
    "|predation_rate|0.0005 – 0.003 \t|\n",
    "|predator_efficiency     \t|0.001 – 0.004\t    |\n",
    "|predator_loss_rate\t    |0.04 – 0.08\t    |\n",
    "\n",
    "* Sensitivity analysis often focuses on the final values of an outcome at the end of the simulation. However, we can also look at metrics that give us additional information about the behavior of the model over time. Using [the statsmodel library](https://www.statsmodels.org/stable/index.html) and an appropriate sampling design, fit a linear regression model for each of the following indicators. What can we conclude about the behavior of the model, and about the importance of the different inputs?\n",
    "\n",
    "  * The final values of the _prey_ outcome\n",
    "  * The mean values of the _prey_ outcome over time, within each experiment\n",
    "  * The standard deviations of the _prey_ outcome over time, within each experiment\n",
    "  \n",
    "\n",
    "* Use the Sobol sampling functionality included in the Workbench to perform experiments with a sample size of N=50, then analyze the results with SALib for the same three indicators. This requires specifying the keyword argument `'uncertainty_sampling'` of perform_experiments. Note that when using Sobol sampling, the meaning of the keyword argument `scenarios` changes a bit. In order to properly estimate Sobol scores as well as interaction effects, you require N * (2D+2) scenarios, where D is the number of uncertain parameters, and N is the value for scenarios passed to `perform_experiments`. Repeat the analysis for larger sample sizes, with N=250 and N=1000. How can we interpret the first-order and total indices? Are these sample sizes sufficient for a stable estimation of the indices? You'll need to use the [get_SALib_problem](https://emaworkbench.readthedocs.io/en/latest/ema_documentation/em_framework/salib_samplers.html) function to convert your Workbench experiments to a problem definition that you can pass to the SALib analysis function. \n",
    "\n",
    "* *hint*: sobol is a deterministic sequence of quasi random numbers. Thus, you can run with N=1000 and simply slice for 1:50 and 1:250.\n",
    "\n",
    "* Use the [Extra-Trees analysis](https://emaworkbench.readthedocs.io/en/latest/ema_documentation/analysis/feature_scoring.html) included in the Workbench to approximate the Sobol total indices, with a suitable sampling design. As a starting point, use an ensemble of 100 trees and a max_features parameter of 0.6, and set the analysis to regression mode. Are the estimated importances stable relative to the sample size and the analysis parameters? How do the results compare to the Sobol indices? For more details on this analysis see [Jaxa-Rozen & Kwakkel (2018)](https://www.sciencedirect.com/science/article/pii/S1364815217311581)"
   ]
  },
  {
   "cell_type": "markdown",
   "metadata": {},
   "source": [
    "# Imports"
   ]
  },
  {
   "cell_type": "code",
   "execution_count": 2,
   "metadata": {
    "collapsed": false,
    "jupyter": {
     "outputs_hidden": false
    }
   },
   "outputs": [],
   "source": [
    "import numpy as np\n",
    "import pandas as pd\n",
    "import matplotlib.pyplot as plt\n",
    "\n",
    "from ema_workbench import (Model, RealParameter, TimeSeriesOutcome, perform_experiments, ema_logging, MultiprocessingEvaluator)\n",
    "\n",
    "from ema_workbench.em_framework.evaluators import LHS, SOBOL, MORRIS\n",
    "\n",
    "from ema_workbench.analysis import feature_scoring\n",
    "from ema_workbench.analysis.scenario_discovery_util import RuleInductionType\n",
    "from ema_workbench.em_framework.salib_samplers import get_SALib_problem\n",
    "from SALib.analyze import sobol\n",
    "\n",
    "from predprey_function import pred_prey"
   ]
  },
  {
   "cell_type": "markdown",
   "metadata": {},
   "source": [
    "# Model Definition and Experiments"
   ]
  },
  {
   "cell_type": "code",
   "execution_count": 3,
   "metadata": {},
   "outputs": [
    {
     "output_type": "stream",
     "name": "stderr",
     "text": "[MainProcess/INFO] pool started\n[MainProcess/INFO] performing 100 scenarios * 1 policies * 1 model(s) = 100 experiments\n[MainProcess/INFO] 10 cases completed\n[MainProcess/INFO] 20 cases completed\n[MainProcess/INFO] 30 cases completed\n[MainProcess/INFO] 40 cases completed\n[MainProcess/INFO] 50 cases completed\n[MainProcess/INFO] 60 cases completed\n[MainProcess/INFO] 70 cases completed\n[MainProcess/INFO] 80 cases completed\n[MainProcess/INFO] 90 cases completed\n[MainProcess/INFO] 100 cases completed\n[MainProcess/INFO] experiments finished\n[MainProcess/INFO] terminating pool\n"
    }
   ],
   "source": [
    "#Initiate Model\n",
    "model = Model(name=\"PredPreyModel\", function = pred_prey)\n",
    "\n",
    "#Define Uncertainties\n",
    "model.uncertainties = [RealParameter('prey_birth_rate', 0.015 , 0.035),\n",
    "                       RealParameter('predation_rate', 0.0005 , 0.003),\n",
    "                       RealParameter('predator_efficiency', 0.001 , 0.004),\n",
    "                       RealParameter('predator_loss_rate', 0.04 , 0.08)]\n",
    "\n",
    "#Define Outcomes\n",
    "model.outcomes = [TimeSeriesOutcome('TIME'),\n",
    "                  TimeSeriesOutcome('predators'),\n",
    "                  TimeSeriesOutcome('prey')]\n",
    "\n",
    "#Turn on logging\n",
    "ema_logging.log_to_stderr(ema_logging.INFO)\n",
    "\n",
    "n_scenarios = 100\n",
    "\n",
    "with MultiprocessingEvaluator(model, n_processes=7) as evaluator:\n",
    "    experiments, outcomes = evaluator.perform_experiments(n_scenarios)"
   ]
  },
  {
   "cell_type": "code",
   "execution_count": 4,
   "metadata": {},
   "outputs": [
    {
     "output_type": "execute_result",
     "data": {
      "text/plain": "    predation_rate  predator_efficiency  predator_loss_rate  prey_birth_rate  \\\n0         0.001458             0.003410            0.063044         0.016700   \n1         0.002650             0.001126            0.073569         0.032234   \n2         0.001208             0.002480            0.058983         0.029560   \n3         0.001156             0.003104            0.068910         0.023272   \n4         0.001065             0.003841            0.040115         0.016425   \n..             ...                  ...                 ...              ...   \n95        0.000733             0.003283            0.069336         0.026507   \n96        0.002957             0.002304            0.072312         0.018592   \n97        0.002999             0.001094            0.077885         0.015476   \n98        0.001442             0.001241            0.045097         0.026731   \n99        0.002411             0.002632            0.063400         0.031236   \n\n   scenario policy          model  \n0         0   None  PredPreyModel  \n1         1   None  PredPreyModel  \n2         2   None  PredPreyModel  \n3         3   None  PredPreyModel  \n4         4   None  PredPreyModel  \n..      ...    ...            ...  \n95       95   None  PredPreyModel  \n96       96   None  PredPreyModel  \n97       97   None  PredPreyModel  \n98       98   None  PredPreyModel  \n99       99   None  PredPreyModel  \n\n[100 rows x 7 columns]",
      "text/html": "<div>\n<style scoped>\n    .dataframe tbody tr th:only-of-type {\n        vertical-align: middle;\n    }\n\n    .dataframe tbody tr th {\n        vertical-align: top;\n    }\n\n    .dataframe thead th {\n        text-align: right;\n    }\n</style>\n<table border=\"1\" class=\"dataframe\">\n  <thead>\n    <tr style=\"text-align: right;\">\n      <th></th>\n      <th>predation_rate</th>\n      <th>predator_efficiency</th>\n      <th>predator_loss_rate</th>\n      <th>prey_birth_rate</th>\n      <th>scenario</th>\n      <th>policy</th>\n      <th>model</th>\n    </tr>\n  </thead>\n  <tbody>\n    <tr>\n      <td>0</td>\n      <td>0.001458</td>\n      <td>0.003410</td>\n      <td>0.063044</td>\n      <td>0.016700</td>\n      <td>0</td>\n      <td>None</td>\n      <td>PredPreyModel</td>\n    </tr>\n    <tr>\n      <td>1</td>\n      <td>0.002650</td>\n      <td>0.001126</td>\n      <td>0.073569</td>\n      <td>0.032234</td>\n      <td>1</td>\n      <td>None</td>\n      <td>PredPreyModel</td>\n    </tr>\n    <tr>\n      <td>2</td>\n      <td>0.001208</td>\n      <td>0.002480</td>\n      <td>0.058983</td>\n      <td>0.029560</td>\n      <td>2</td>\n      <td>None</td>\n      <td>PredPreyModel</td>\n    </tr>\n    <tr>\n      <td>3</td>\n      <td>0.001156</td>\n      <td>0.003104</td>\n      <td>0.068910</td>\n      <td>0.023272</td>\n      <td>3</td>\n      <td>None</td>\n      <td>PredPreyModel</td>\n    </tr>\n    <tr>\n      <td>4</td>\n      <td>0.001065</td>\n      <td>0.003841</td>\n      <td>0.040115</td>\n      <td>0.016425</td>\n      <td>4</td>\n      <td>None</td>\n      <td>PredPreyModel</td>\n    </tr>\n    <tr>\n      <td>...</td>\n      <td>...</td>\n      <td>...</td>\n      <td>...</td>\n      <td>...</td>\n      <td>...</td>\n      <td>...</td>\n      <td>...</td>\n    </tr>\n    <tr>\n      <td>95</td>\n      <td>0.000733</td>\n      <td>0.003283</td>\n      <td>0.069336</td>\n      <td>0.026507</td>\n      <td>95</td>\n      <td>None</td>\n      <td>PredPreyModel</td>\n    </tr>\n    <tr>\n      <td>96</td>\n      <td>0.002957</td>\n      <td>0.002304</td>\n      <td>0.072312</td>\n      <td>0.018592</td>\n      <td>96</td>\n      <td>None</td>\n      <td>PredPreyModel</td>\n    </tr>\n    <tr>\n      <td>97</td>\n      <td>0.002999</td>\n      <td>0.001094</td>\n      <td>0.077885</td>\n      <td>0.015476</td>\n      <td>97</td>\n      <td>None</td>\n      <td>PredPreyModel</td>\n    </tr>\n    <tr>\n      <td>98</td>\n      <td>0.001442</td>\n      <td>0.001241</td>\n      <td>0.045097</td>\n      <td>0.026731</td>\n      <td>98</td>\n      <td>None</td>\n      <td>PredPreyModel</td>\n    </tr>\n    <tr>\n      <td>99</td>\n      <td>0.002411</td>\n      <td>0.002632</td>\n      <td>0.063400</td>\n      <td>0.031236</td>\n      <td>99</td>\n      <td>None</td>\n      <td>PredPreyModel</td>\n    </tr>\n  </tbody>\n</table>\n<p>100 rows × 7 columns</p>\n</div>"
     },
     "metadata": {},
     "execution_count": 4
    }
   ],
   "source": [
    "experiments"
   ]
  },
  {
   "cell_type": "markdown",
   "metadata": {},
   "source": [
    "## Linear regression"
   ]
  },
  {
   "cell_type": "code",
   "execution_count": 19,
   "metadata": {},
   "outputs": [
    {
     "output_type": "execute_result",
     "data": {
      "text/plain": "dtype('float64')"
     },
     "metadata": {},
     "execution_count": 19
    }
   ],
   "source": [
    "\n",
    "import statsmodels\n",
    "\n",
    "x = experiments.drop(columns=['scenario','policy','model'])\n",
    "\n",
    "x.values.dtype\n"
   ]
  },
  {
   "cell_type": "code",
   "execution_count": 25,
   "metadata": {},
   "outputs": [],
   "source": [
    "#create the right dataframe\n",
    "prey = outcomes['prey']\n",
    "\n",
    "models = statsmodels.regression.linear_model.OLS(prey, x.values)\n",
    "\n",
    "fitted = models.fit()\n",
    "\n",
    "#results = smf.ols('prey ~ np.log(prey_birth_rate) + np.log(predation_rate)', data=experiments).fit()"
   ]
  },
  {
   "cell_type": "code",
   "execution_count": 30,
   "metadata": {},
   "outputs": [
    {
     "output_type": "error",
     "ename": "NameError",
     "evalue": "name 'head' is not defined",
     "traceback": [
      "\u001b[0;31m---------------------------------------------------------------------------\u001b[0m",
      "\u001b[0;31mNameError\u001b[0m                                 Traceback (most recent call last)",
      "\u001b[0;32m<ipython-input-30-5e9f49ec2186>\u001b[0m in \u001b[0;36m<module>\u001b[0;34m\u001b[0m\n\u001b[0;32m----> 1\u001b[0;31m \u001b[0mhead\u001b[0m\u001b[0;34m(\u001b[0m\u001b[0mfitted\u001b[0m\u001b[0;34m.\u001b[0m\u001b[0mparams\u001b[0m\u001b[0;34m)\u001b[0m\u001b[0;34m\u001b[0m\u001b[0;34m\u001b[0m\u001b[0m\n\u001b[0m",
      "\u001b[0;31mNameError\u001b[0m: name 'head' is not defined"
     ]
    }
   ],
   "source": [
    "fitted.params"
   ]
  },
  {
   "cell_type": "code",
   "execution_count": null,
   "metadata": {},
   "outputs": [],
   "source": []
  }
 ],
 "metadata": {
  "kernelspec": {
   "display_name": "Python 3",
   "language": "python",
   "name": "python3"
  },
  "language_info": {
   "codemirror_mode": {
    "name": "ipython",
    "version": 3
   },
   "file_extension": ".py",
   "mimetype": "text/x-python",
   "name": "python",
   "nbconvert_exporter": "python",
   "pygments_lexer": "ipython3",
   "version": "3.7.4-final"
  }
 },
 "nbformat": 4,
 "nbformat_minor": 4
}