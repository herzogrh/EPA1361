{
 "cells": [
  {
   "cell_type": "markdown",
   "metadata": {},
   "source": [
    "# EPA1361 - Model-Based Decision Making\n",
    "# Week 3 - Sensitivity analysis\n",
    "\n",
    "This exercise uses the same predator-prey model we used for the multi-model exercise, focusing on the Python version. As with the other exercise, define a model object for the function below, with the uncertainty ranges provided:\n",
    "\n",
    "|Parameter\t|Range or value\t        |\n",
    "|-----------|--------------:|\n",
    "|prey_birth_rate    \t|0.015 – 0.035\t|\n",
    "|predation_rate|0.0005 – 0.003 \t|\n",
    "|predator_efficiency     \t|0.001 – 0.004\t    |\n",
    "|predator_loss_rate\t    |0.04 – 0.08\t    |\n",
    "\n",
    "* Sensitivity analysis often focuses on the final values of an outcome at the end of the simulation. However, we can also look at metrics that give us additional information about the behavior of the model over time. Using [the statsmodel library](https://www.statsmodels.org/stable/index.html) and an appropriate sampling design, fit a linear regression model for each of the following indicators. What can we conclude about the behavior of the model, and about the importance of the different inputs?\n",
    "\n",
    "  * The final values of the _prey_ outcome\n",
    "  * The mean values of the _prey_ outcome over time, within each experiment\n",
    "  * The standard deviations of the _prey_ outcome over time, within each experiment\n",
    "  \n",
    "\n",
    "* Use the Sobol sampling functionality included in the Workbench to perform experiments with a sample size of N=50, then analyze the results with SALib for the same three indicators. This requires specifying the keyword argument `'uncertainty_sampling'` of perform_experiments. Note that when using Sobol sampling, the meaning of the keyword argument `scenarios` changes a bit. In order to properly estimate Sobol scores as well as interaction effects, you require N * (2D+2) scenarios, where D is the number of uncertain parameters, and N is the value for scenarios passed to `perform_experiments`. Repeat the analysis for larger sample sizes, with N=250 and N=1000. How can we interpret the first-order and total indices? Are these sample sizes sufficient for a stable estimation of the indices? You'll need to use the [get_SALib_problem](https://emaworkbench.readthedocs.io/en/latest/ema_documentation/em_framework/salib_samplers.html) function to convert your Workbench experiments to a problem definition that you can pass to the SALib analysis function. \n",
    "\n",
    "* *hint*: sobol is a deterministic sequence of quasi random numbers. Thus, you can run with N=1000 and simply slice for 1:50 and 1:250.\n",
    "\n",
    "* Use the [Extra-Trees analysis](https://emaworkbench.readthedocs.io/en/latest/ema_documentation/analysis/feature_scoring.html) included in the Workbench to approximate the Sobol total indices, with a suitable sampling design. As a starting point, use an ensemble of 100 trees and a max_features parameter of 0.6, and set the analysis to regression mode. Are the estimated importances stable relative to the sample size and the analysis parameters? How do the results compare to the Sobol indices? For more details on this analysis see [Jaxa-Rozen & Kwakkel (2018)](https://www.sciencedirect.com/science/article/pii/S1364815217311581)"
   ]
  },
  {
   "cell_type": "markdown",
   "metadata": {},
   "source": [
    "# Imports"
   ]
  },
  {
   "cell_type": "code",
   "execution_count": 2,
   "metadata": {
    "collapsed": false,
    "jupyter": {
     "outputs_hidden": false
    }
   },
   "outputs": [],
   "source": [
    "import numpy as np\n",
    "import pandas as pd\n",
    "import matplotlib.pyplot as plt\n",
    "\n",
    "from ema_workbench import (Model, RealParameter, TimeSeriesOutcome, perform_experiments, ema_logging, MultiprocessingEvaluator)\n",
    "\n",
    "from ema_workbench.em_framework.evaluators import LHS, SOBOL, MORRIS\n",
    "\n",
    "from ema_workbench.analysis import feature_scoring\n",
    "from ema_workbench.analysis.scenario_discovery_util import RuleInductionType\n",
    "from ema_workbench.em_framework.salib_samplers import get_SALib_problem\n",
    "from SALib.analyze import sobol\n",
    "\n",
    "from predprey_function import pred_prey"
   ]
  },
  {
   "cell_type": "markdown",
   "metadata": {},
   "source": [
    "# Model Definition and Experiments"
   ]
  },
  {
   "cell_type": "code",
   "execution_count": 3,
   "metadata": {},
   "outputs": [
    {
     "output_type": "stream",
     "name": "stderr",
     "text": "[MainProcess/INFO] pool started\n[MainProcess/INFO] performing 100 scenarios * 1 policies * 1 model(s) = 100 experiments\n[MainProcess/INFO] 10 cases completed\n[MainProcess/INFO] 20 cases completed\n[MainProcess/INFO] 30 cases completed\n[MainProcess/INFO] 40 cases completed\n[MainProcess/INFO] 50 cases completed\n[MainProcess/INFO] 60 cases completed\n[MainProcess/INFO] 70 cases completed\n[MainProcess/INFO] 80 cases completed\n[MainProcess/INFO] 90 cases completed\n[MainProcess/INFO] 100 cases completed\n[MainProcess/INFO] experiments finished\n[MainProcess/INFO] terminating pool\n"
    }
   ],
   "source": [
    "#Initiate Model\n",
    "model = Model(name=\"PredPreyModel\", function = pred_prey)\n",
    "\n",
    "#Define Uncertainties\n",
    "model.uncertainties = [RealParameter('prey_birth_rate', 0.015 , 0.035),\n",
    "                       RealParameter('predation_rate', 0.0005 , 0.003),\n",
    "                       RealParameter('predator_efficiency', 0.001 , 0.004),\n",
    "                       RealParameter('predator_loss_rate', 0.04 , 0.08)]\n",
    "\n",
    "#Define Outcomes\n",
    "model.outcomes = [TimeSeriesOutcome('TIME'),\n",
    "                  TimeSeriesOutcome('predators'),\n",
    "                  TimeSeriesOutcome('prey')]\n",
    "\n",
    "#Turn on logging\n",
    "ema_logging.log_to_stderr(ema_logging.INFO)\n",
    "\n",
    "n_scenarios = 100\n",
    "\n",
    "with MultiprocessingEvaluator(model, n_processes=7) as evaluator:\n",
    "    experiments, outcomes = evaluator.perform_experiments(n_scenarios)"
   ]
  },
  {
   "cell_type": "code",
   "execution_count": 4,
   "metadata": {},
   "outputs": [
    {
     "output_type": "execute_result",
     "data": {
      "text/plain": "    predation_rate  predator_efficiency  predator_loss_rate  prey_birth_rate  \\\n0         0.001458             0.003410            0.063044         0.016700   \n1         0.002650             0.001126            0.073569         0.032234   \n2         0.001208             0.002480            0.058983         0.029560   \n3         0.001156             0.003104            0.068910         0.023272   \n4         0.001065             0.003841            0.040115         0.016425   \n..             ...                  ...                 ...              ...   \n95        0.000733             0.003283            0.069336         0.026507   \n96        0.002957             0.002304            0.072312         0.018592   \n97        0.002999             0.001094            0.077885         0.015476   \n98        0.001442             0.001241            0.045097         0.026731   \n99        0.002411             0.002632            0.063400         0.031236   \n\n   scenario policy          model  \n0         0   None  PredPreyModel  \n1         1   None  PredPreyModel  \n2         2   None  PredPreyModel  \n3         3   None  PredPreyModel  \n4         4   None  PredPreyModel  \n..      ...    ...            ...  \n95       95   None  PredPreyModel  \n96       96   None  PredPreyModel  \n97       97   None  PredPreyModel  \n98       98   None  PredPreyModel  \n99       99   None  PredPreyModel  \n\n[100 rows x 7 columns]",
      "text/html": "<div>\n<style scoped>\n    .dataframe tbody tr th:only-of-type {\n        vertical-align: middle;\n    }\n\n    .dataframe tbody tr th {\n        vertical-align: top;\n    }\n\n    .dataframe thead th {\n        text-align: right;\n    }\n</style>\n<table border=\"1\" class=\"dataframe\">\n  <thead>\n    <tr style=\"text-align: right;\">\n      <th></th>\n      <th>predation_rate</th>\n      <th>predator_efficiency</th>\n      <th>predator_loss_rate</th>\n      <th>prey_birth_rate</th>\n      <th>scenario</th>\n      <th>policy</th>\n      <th>model</th>\n    </tr>\n  </thead>\n  <tbody>\n    <tr>\n      <td>0</td>\n      <td>0.001458</td>\n      <td>0.003410</td>\n      <td>0.063044</td>\n      <td>0.016700</td>\n      <td>0</td>\n      <td>None</td>\n      <td>PredPreyModel</td>\n    </tr>\n    <tr>\n      <td>1</td>\n      <td>0.002650</td>\n      <td>0.001126</td>\n      <td>0.073569</td>\n      <td>0.032234</td>\n      <td>1</td>\n      <td>None</td>\n      <td>PredPreyModel</td>\n    </tr>\n    <tr>\n      <td>2</td>\n      <td>0.001208</td>\n      <td>0.002480</td>\n      <td>0.058983</td>\n      <td>0.029560</td>\n      <td>2</td>\n      <td>None</td>\n      <td>PredPreyModel</td>\n    </tr>\n    <tr>\n      <td>3</td>\n      <td>0.001156</td>\n      <td>0.003104</td>\n      <td>0.068910</td>\n      <td>0.023272</td>\n      <td>3</td>\n      <td>None</td>\n      <td>PredPreyModel</td>\n    </tr>\n    <tr>\n      <td>4</td>\n      <td>0.001065</td>\n      <td>0.003841</td>\n      <td>0.040115</td>\n      <td>0.016425</td>\n      <td>4</td>\n      <td>None</td>\n      <td>PredPreyModel</td>\n    </tr>\n    <tr>\n      <td>...</td>\n      <td>...</td>\n      <td>...</td>\n      <td>...</td>\n      <td>...</td>\n      <td>...</td>\n      <td>...</td>\n      <td>...</td>\n    </tr>\n    <tr>\n      <td>95</td>\n      <td>0.000733</td>\n      <td>0.003283</td>\n      <td>0.069336</td>\n      <td>0.026507</td>\n      <td>95</td>\n      <td>None</td>\n      <td>PredPreyModel</td>\n    </tr>\n    <tr>\n      <td>96</td>\n      <td>0.002957</td>\n      <td>0.002304</td>\n      <td>0.072312</td>\n      <td>0.018592</td>\n      <td>96</td>\n      <td>None</td>\n      <td>PredPreyModel</td>\n    </tr>\n    <tr>\n      <td>97</td>\n      <td>0.002999</td>\n      <td>0.001094</td>\n      <td>0.077885</td>\n      <td>0.015476</td>\n      <td>97</td>\n      <td>None</td>\n      <td>PredPreyModel</td>\n    </tr>\n    <tr>\n      <td>98</td>\n      <td>0.001442</td>\n      <td>0.001241</td>\n      <td>0.045097</td>\n      <td>0.026731</td>\n      <td>98</td>\n      <td>None</td>\n      <td>PredPreyModel</td>\n    </tr>\n    <tr>\n      <td>99</td>\n      <td>0.002411</td>\n      <td>0.002632</td>\n      <td>0.063400</td>\n      <td>0.031236</td>\n      <td>99</td>\n      <td>None</td>\n      <td>PredPreyModel</td>\n    </tr>\n  </tbody>\n</table>\n<p>100 rows × 7 columns</p>\n</div>"
     },
     "metadata": {},
     "execution_count": 4
    }
   ],
   "source": [
    "experiments"
   ]
  },
  {
   "cell_type": "markdown",
   "metadata": {},
   "source": [
    "## Linear regression"
   ]
  },
  {
   "cell_type": "code",
   "execution_count": 112,
   "metadata": {},
   "outputs": [
    {
     "output_type": "execute_result",
     "data": {
      "text/plain": "dtype('float64')"
     },
     "metadata": {},
     "execution_count": 112
    }
   ],
   "source": [
    "import statsmodels\n",
    "import statsmodels.api as sm\n",
    "import statsmodels.formula.api as smf\n",
    "\n",
    "experiments_clean = experiments.drop(columns=['scenario','policy','model'])\n",
    "\n",
    "experiments_clean.values.dtype"
   ]
  },
  {
   "cell_type": "code",
   "execution_count": 113,
   "metadata": {},
   "outputs": [
    {
     "output_type": "execute_result",
     "data": {
      "text/plain": "array([[[ 50.        ,  49.84424891,  49.67922255, ...,   5.58251661,\n           5.60311011,   5.62380954]],\n\n       [[ 50.        ,  49.74043706,  49.48506747, ..., 102.29055135,\n         102.209556  , 102.11921639]],\n\n       [[ 50.        ,  50.06739175,  50.12995822, ...,  17.96448882,\n          17.72052013,  17.48120579]],\n\n       ...,\n\n       [[ 50.        ,  49.44379332,  48.89806845, ..., 108.55588552,\n         108.93564435, 109.31631872]],\n\n       [[ 50.        ,  49.97354142,  49.94556847, ...,  51.06069924,\n          51.04967186,  51.03703748]],\n\n       [[ 50.        ,  49.78778285,  49.56623238, ...,   7.48664223,\n           7.48499683,   7.48400823]]])"
     },
     "metadata": {},
     "execution_count": 113
    }
   ],
   "source": [
    "#create the right dataframe\n",
    "prey = outcomes['prey']\n",
    "prey"
   ]
  },
  {
   "cell_type": "code",
   "execution_count": 114,
   "metadata": {},
   "outputs": [
    {
     "output_type": "execute_result",
     "data": {
      "text/plain": "<class 'statsmodels.iolib.summary.Summary'>\n\"\"\"\n                                 OLS Regression Results                                \n=======================================================================================\nDep. Variable:                      y   R-squared (uncentered):                   0.940\nModel:                            OLS   Adj. R-squared (uncentered):              0.938\nMethod:                 Least Squares   F-statistic:                              377.1\nDate:                Thu, 14 May 2020   Prob (F-statistic):                    9.12e-58\nTime:                        16:15:28   Log-Likelihood:                         -272.22\nNo. Observations:                 100   AIC:                                      552.4\nDf Residuals:                      96   BIC:                                      562.9\nDf Model:                           4                                                  \nCovariance Type:            nonrobust                                                  \n==============================================================================\n                 coef    std err          t      P>|t|      [0.025      0.975]\n------------------------------------------------------------------------------\nx1          2376.5474    527.678      4.504      0.000    1329.115    3423.980\nx2          1300.3749    396.293      3.281      0.001     513.740    2087.010\nx3           108.0585     25.686      4.207      0.000      57.071     159.046\nx4            19.0589     58.217      0.327      0.744     -96.502     134.619\n==============================================================================\nOmnibus:                       47.507   Durbin-Watson:                   2.006\nProb(Omnibus):                  0.000   Jarque-Bera (JB):              204.368\nSkew:                           1.491   Prob(JB):                     4.19e-45\nKurtosis:                       9.337   Cond. No.                         92.9\n==============================================================================\n\nWarnings:\n[1] Standard Errors assume that the covariance matrix of the errors is correctly specified.\n\"\"\"",
      "text/html": "<table class=\"simpletable\">\n<caption>OLS Regression Results</caption>\n<tr>\n  <th>Dep. Variable:</th>            <td>y</td>        <th>  R-squared (uncentered):</th>      <td>   0.940</td>\n</tr>\n<tr>\n  <th>Model:</th>                   <td>OLS</td>       <th>  Adj. R-squared (uncentered):</th> <td>   0.938</td>\n</tr>\n<tr>\n  <th>Method:</th>             <td>Least Squares</td>  <th>  F-statistic:       </th>          <td>   377.1</td>\n</tr>\n<tr>\n  <th>Date:</th>             <td>Thu, 14 May 2020</td> <th>  Prob (F-statistic):</th>          <td>9.12e-58</td>\n</tr>\n<tr>\n  <th>Time:</th>                 <td>16:15:28</td>     <th>  Log-Likelihood:    </th>          <td> -272.22</td>\n</tr>\n<tr>\n  <th>No. Observations:</th>      <td>   100</td>      <th>  AIC:               </th>          <td>   552.4</td>\n</tr>\n<tr>\n  <th>Df Residuals:</th>          <td>    96</td>      <th>  BIC:               </th>          <td>   562.9</td>\n</tr>\n<tr>\n  <th>Df Model:</th>              <td>     4</td>      <th>                     </th>              <td> </td>   \n</tr>\n<tr>\n  <th>Covariance Type:</th>      <td>nonrobust</td>    <th>                     </th>              <td> </td>   \n</tr>\n</table>\n<table class=\"simpletable\">\n<tr>\n   <td></td>     <th>coef</th>     <th>std err</th>      <th>t</th>      <th>P>|t|</th>  <th>[0.025</th>    <th>0.975]</th>  \n</tr>\n<tr>\n  <th>x1</th> <td> 2376.5474</td> <td>  527.678</td> <td>    4.504</td> <td> 0.000</td> <td> 1329.115</td> <td> 3423.980</td>\n</tr>\n<tr>\n  <th>x2</th> <td> 1300.3749</td> <td>  396.293</td> <td>    3.281</td> <td> 0.001</td> <td>  513.740</td> <td> 2087.010</td>\n</tr>\n<tr>\n  <th>x3</th> <td>  108.0585</td> <td>   25.686</td> <td>    4.207</td> <td> 0.000</td> <td>   57.071</td> <td>  159.046</td>\n</tr>\n<tr>\n  <th>x4</th> <td>   19.0589</td> <td>   58.217</td> <td>    0.327</td> <td> 0.744</td> <td>  -96.502</td> <td>  134.619</td>\n</tr>\n</table>\n<table class=\"simpletable\">\n<tr>\n  <th>Omnibus:</th>       <td>47.507</td> <th>  Durbin-Watson:     </th> <td>   2.006</td>\n</tr>\n<tr>\n  <th>Prob(Omnibus):</th> <td> 0.000</td> <th>  Jarque-Bera (JB):  </th> <td> 204.368</td>\n</tr>\n<tr>\n  <th>Skew:</th>          <td> 1.491</td> <th>  Prob(JB):          </th> <td>4.19e-45</td>\n</tr>\n<tr>\n  <th>Kurtosis:</th>      <td> 9.337</td> <th>  Cond. No.          </th> <td>    92.9</td>\n</tr>\n</table><br/><br/>Warnings:<br/>[1] Standard Errors assume that the covariance matrix of the errors is correctly specified."
     },
     "metadata": {},
     "execution_count": 114
    }
   ],
   "source": [
    "prey_mean = np.mean(outcomes['prey'][:,0,:], axis=1)\n",
    "prey_mean\n",
    "\n",
    "LR_mean = statsmodels.regression.linear_model.OLS(prey_std, experiments_clean.values)\n",
    "\n",
    "fitted_mean = LR_mean.fit()\n",
    "\n",
    "fitted_mean.summary()"
   ]
  },
  {
   "cell_type": "code",
   "execution_count": 115,
   "metadata": {},
   "outputs": [
    {
     "output_type": "execute_result",
     "data": {
      "text/plain": "<class 'statsmodels.iolib.summary.Summary'>\n\"\"\"\n                                 OLS Regression Results                                \n=======================================================================================\nDep. Variable:                      y   R-squared (uncentered):                   0.786\nModel:                            OLS   Adj. R-squared (uncentered):              0.777\nMethod:                 Least Squares   F-statistic:                              88.22\nDate:                Thu, 14 May 2020   Prob (F-statistic):                    2.72e-31\nTime:                        16:15:30   Log-Likelihood:                         -428.83\nNo. Observations:                 100   AIC:                                      865.7\nDf Residuals:                      96   BIC:                                      876.1\nDf Model:                           4                                                  \nCovariance Type:            nonrobust                                                  \n==============================================================================\n                 coef    std err          t      P>|t|      [0.025      0.975]\n------------------------------------------------------------------------------\nx1          1447.9592   2526.482      0.573      0.568   -3567.067    6462.986\nx2           -1.2e+04   1897.419     -6.326      0.000   -1.58e+04   -8236.119\nx3           854.7270    122.985      6.950      0.000     610.604    1098.850\nx4           256.2848    278.740      0.919      0.360    -297.010     809.579\n==============================================================================\nOmnibus:                        4.746   Durbin-Watson:                   1.877\nProb(Omnibus):                  0.093   Jarque-Bera (JB):                4.806\nSkew:                           0.516   Prob(JB):                       0.0905\nKurtosis:                       2.706   Cond. No.                         92.9\n==============================================================================\n\nWarnings:\n[1] Standard Errors assume that the covariance matrix of the errors is correctly specified.\n\"\"\"",
      "text/html": "<table class=\"simpletable\">\n<caption>OLS Regression Results</caption>\n<tr>\n  <th>Dep. Variable:</th>            <td>y</td>        <th>  R-squared (uncentered):</th>      <td>   0.786</td>\n</tr>\n<tr>\n  <th>Model:</th>                   <td>OLS</td>       <th>  Adj. R-squared (uncentered):</th> <td>   0.777</td>\n</tr>\n<tr>\n  <th>Method:</th>             <td>Least Squares</td>  <th>  F-statistic:       </th>          <td>   88.22</td>\n</tr>\n<tr>\n  <th>Date:</th>             <td>Thu, 14 May 2020</td> <th>  Prob (F-statistic):</th>          <td>2.72e-31</td>\n</tr>\n<tr>\n  <th>Time:</th>                 <td>16:15:30</td>     <th>  Log-Likelihood:    </th>          <td> -428.83</td>\n</tr>\n<tr>\n  <th>No. Observations:</th>      <td>   100</td>      <th>  AIC:               </th>          <td>   865.7</td>\n</tr>\n<tr>\n  <th>Df Residuals:</th>          <td>    96</td>      <th>  BIC:               </th>          <td>   876.1</td>\n</tr>\n<tr>\n  <th>Df Model:</th>              <td>     4</td>      <th>                     </th>              <td> </td>   \n</tr>\n<tr>\n  <th>Covariance Type:</th>      <td>nonrobust</td>    <th>                     </th>              <td> </td>   \n</tr>\n</table>\n<table class=\"simpletable\">\n<tr>\n   <td></td>     <th>coef</th>     <th>std err</th>      <th>t</th>      <th>P>|t|</th>  <th>[0.025</th>    <th>0.975]</th>  \n</tr>\n<tr>\n  <th>x1</th> <td> 1447.9592</td> <td> 2526.482</td> <td>    0.573</td> <td> 0.568</td> <td>-3567.067</td> <td> 6462.986</td>\n</tr>\n<tr>\n  <th>x2</th> <td>  -1.2e+04</td> <td> 1897.419</td> <td>   -6.326</td> <td> 0.000</td> <td>-1.58e+04</td> <td>-8236.119</td>\n</tr>\n<tr>\n  <th>x3</th> <td>  854.7270</td> <td>  122.985</td> <td>    6.950</td> <td> 0.000</td> <td>  610.604</td> <td> 1098.850</td>\n</tr>\n<tr>\n  <th>x4</th> <td>  256.2848</td> <td>  278.740</td> <td>    0.919</td> <td> 0.360</td> <td> -297.010</td> <td>  809.579</td>\n</tr>\n</table>\n<table class=\"simpletable\">\n<tr>\n  <th>Omnibus:</th>       <td> 4.746</td> <th>  Durbin-Watson:     </th> <td>   1.877</td>\n</tr>\n<tr>\n  <th>Prob(Omnibus):</th> <td> 0.093</td> <th>  Jarque-Bera (JB):  </th> <td>   4.806</td>\n</tr>\n<tr>\n  <th>Skew:</th>          <td> 0.516</td> <th>  Prob(JB):          </th> <td>  0.0905</td>\n</tr>\n<tr>\n  <th>Kurtosis:</th>      <td> 2.706</td> <th>  Cond. No.          </th> <td>    92.9</td>\n</tr>\n</table><br/><br/>Warnings:<br/>[1] Standard Errors assume that the covariance matrix of the errors is correctly specified."
     },
     "metadata": {},
     "execution_count": 115
    }
   ],
   "source": [
    "prey_final = outcomes['prey'][:,:,-1].flatten()\n",
    "prey_final\n",
    "\n",
    "LR_final = statsmodels.regression.linear_model.OLS(prey_final, experiments_clean.values)\n",
    "\n",
    "fitted_final = LR_final.fit()\n",
    "\n",
    "fitted_final.summary()\n"
   ]
  },
  {
   "cell_type": "code",
   "execution_count": 116,
   "metadata": {},
   "outputs": [
    {
     "output_type": "execute_result",
     "data": {
      "text/plain": "<class 'statsmodels.iolib.summary.Summary'>\n\"\"\"\n                                 OLS Regression Results                                \n=======================================================================================\nDep. Variable:                      y   R-squared (uncentered):                   0.940\nModel:                            OLS   Adj. R-squared (uncentered):              0.938\nMethod:                 Least Squares   F-statistic:                              377.1\nDate:                Thu, 14 May 2020   Prob (F-statistic):                    9.12e-58\nTime:                        16:15:32   Log-Likelihood:                         -272.22\nNo. Observations:                 100   AIC:                                      552.4\nDf Residuals:                      96   BIC:                                      562.9\nDf Model:                           4                                                  \nCovariance Type:            nonrobust                                                  \n==============================================================================\n                 coef    std err          t      P>|t|      [0.025      0.975]\n------------------------------------------------------------------------------\nx1          2376.5474    527.678      4.504      0.000    1329.115    3423.980\nx2          1300.3749    396.293      3.281      0.001     513.740    2087.010\nx3           108.0585     25.686      4.207      0.000      57.071     159.046\nx4            19.0589     58.217      0.327      0.744     -96.502     134.619\n==============================================================================\nOmnibus:                       47.507   Durbin-Watson:                   2.006\nProb(Omnibus):                  0.000   Jarque-Bera (JB):              204.368\nSkew:                           1.491   Prob(JB):                     4.19e-45\nKurtosis:                       9.337   Cond. No.                         92.9\n==============================================================================\n\nWarnings:\n[1] Standard Errors assume that the covariance matrix of the errors is correctly specified.\n\"\"\"",
      "text/html": "<table class=\"simpletable\">\n<caption>OLS Regression Results</caption>\n<tr>\n  <th>Dep. Variable:</th>            <td>y</td>        <th>  R-squared (uncentered):</th>      <td>   0.940</td>\n</tr>\n<tr>\n  <th>Model:</th>                   <td>OLS</td>       <th>  Adj. R-squared (uncentered):</th> <td>   0.938</td>\n</tr>\n<tr>\n  <th>Method:</th>             <td>Least Squares</td>  <th>  F-statistic:       </th>          <td>   377.1</td>\n</tr>\n<tr>\n  <th>Date:</th>             <td>Thu, 14 May 2020</td> <th>  Prob (F-statistic):</th>          <td>9.12e-58</td>\n</tr>\n<tr>\n  <th>Time:</th>                 <td>16:15:32</td>     <th>  Log-Likelihood:    </th>          <td> -272.22</td>\n</tr>\n<tr>\n  <th>No. Observations:</th>      <td>   100</td>      <th>  AIC:               </th>          <td>   552.4</td>\n</tr>\n<tr>\n  <th>Df Residuals:</th>          <td>    96</td>      <th>  BIC:               </th>          <td>   562.9</td>\n</tr>\n<tr>\n  <th>Df Model:</th>              <td>     4</td>      <th>                     </th>              <td> </td>   \n</tr>\n<tr>\n  <th>Covariance Type:</th>      <td>nonrobust</td>    <th>                     </th>              <td> </td>   \n</tr>\n</table>\n<table class=\"simpletable\">\n<tr>\n   <td></td>     <th>coef</th>     <th>std err</th>      <th>t</th>      <th>P>|t|</th>  <th>[0.025</th>    <th>0.975]</th>  \n</tr>\n<tr>\n  <th>x1</th> <td> 2376.5474</td> <td>  527.678</td> <td>    4.504</td> <td> 0.000</td> <td> 1329.115</td> <td> 3423.980</td>\n</tr>\n<tr>\n  <th>x2</th> <td> 1300.3749</td> <td>  396.293</td> <td>    3.281</td> <td> 0.001</td> <td>  513.740</td> <td> 2087.010</td>\n</tr>\n<tr>\n  <th>x3</th> <td>  108.0585</td> <td>   25.686</td> <td>    4.207</td> <td> 0.000</td> <td>   57.071</td> <td>  159.046</td>\n</tr>\n<tr>\n  <th>x4</th> <td>   19.0589</td> <td>   58.217</td> <td>    0.327</td> <td> 0.744</td> <td>  -96.502</td> <td>  134.619</td>\n</tr>\n</table>\n<table class=\"simpletable\">\n<tr>\n  <th>Omnibus:</th>       <td>47.507</td> <th>  Durbin-Watson:     </th> <td>   2.006</td>\n</tr>\n<tr>\n  <th>Prob(Omnibus):</th> <td> 0.000</td> <th>  Jarque-Bera (JB):  </th> <td> 204.368</td>\n</tr>\n<tr>\n  <th>Skew:</th>          <td> 1.491</td> <th>  Prob(JB):          </th> <td>4.19e-45</td>\n</tr>\n<tr>\n  <th>Kurtosis:</th>      <td> 9.337</td> <th>  Cond. No.          </th> <td>    92.9</td>\n</tr>\n</table><br/><br/>Warnings:<br/>[1] Standard Errors assume that the covariance matrix of the errors is correctly specified."
     },
     "metadata": {},
     "execution_count": 116
    }
   ],
   "source": [
    "prey_std = np.std(outcomes['prey'][:,0,:], axis=1)\n",
    "prey_std\n",
    "\n",
    "LR_std = statsmodels.regression.linear_model.OLS(prey_std, experiments_clean.values)\n",
    "\n",
    "fitted_std = LR_std.fit()\n",
    "\n",
    "fitted_std.summary()\n",
    "\n",
    "#results = smf.ols('prey[[0]] ~ np.log(prey_birth_rate) + np.log(predation_rate)', data=experiments).fit()"
   ]
  },
  {
   "cell_type": "code",
   "execution_count": null,
   "metadata": {},
   "outputs": [],
   "source": []
  }
 ],
 "metadata": {
  "kernelspec": {
   "display_name": "Python 3",
   "language": "python",
   "name": "python3"
  },
  "language_info": {
   "codemirror_mode": {
    "name": "ipython",
    "version": 3
   },
   "file_extension": ".py",
   "mimetype": "text/x-python",
   "name": "python",
   "nbconvert_exporter": "python",
   "pygments_lexer": "ipython3",
   "version": "3.7.4-final"
  }
 },
 "nbformat": 4,
 "nbformat_minor": 4
}