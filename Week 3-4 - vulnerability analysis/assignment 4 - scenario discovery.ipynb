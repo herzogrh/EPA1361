{
 "cells": [
  {
   "cell_type": "markdown",
   "metadata": {},
   "source": [
    "# Replication assignment\n",
    "\n",
    "Replicate the results found in [Bryant et al  (2010)](https://doi.org/10.1016/j.techfore.2009.08.002), [Rozenberg et al (2014)](https://link.springer.com/content/pdf/10.1007/s10584-013-0904-3.pdf), and [Hamarat et al (2013)](https://doi.org/10.1016/j.techfore.2012.10.004). The data files are named accordingly. You can also look at [Kwakkel & Jaxa-Rozen (2016)](https://www.sciencedirect.com/science/article/pii/S1364815215301092), which gives a succint summary of these three cases. \n",
    "\n",
    "An additional useful, if dated, resource for Bryant et al is https://waterprogramming.wordpress.com/2015/08/05/scenario-discovery-in-python/ \n",
    "\n"
   ]
  },
  {
   "cell_type": "markdown",
   "metadata": {},
   "source": [
    "# Imports"
   ]
  },
  {
   "cell_type": "code",
   "execution_count": 5,
   "metadata": {},
   "outputs": [],
   "source": [
    "import pandas as pd"
   ]
  },
  {
   "cell_type": "markdown",
   "metadata": {},
   "source": [
    "# Bryant & Lempert\n",
    "\n",
    "Load the data using pandas. The experiments are in colums 2-10, while the outcome is in column 15. If you look at the paper carefully, you will see that they change the peel_alpha in PRIM. This controls the leniency of the algorithm.\n"
   ]
  },
  {
   "cell_type": "code",
   "execution_count": 8,
   "metadata": {},
   "outputs": [
    {
     "output_type": "execute_result",
     "data": {
      "text/plain": "     renew req %  Pricing  Cellulosic cost  Total biomass  \\\n0           0.25        1       124.900001     612.799988   \n1           0.25        1        67.300003     837.200012   \n2           0.25        1        71.000000     740.400024   \n3           0.25        1        80.099998     995.599976   \n4           0.25        1        76.400002     476.399994   \n..           ...      ...              ...            ...   \n877         0.25        1        99.199997     511.600006   \n878         0.25        1       102.400002     751.400024   \n879         0.25        1       100.000000     527.000000   \n880         0.25        1       108.300003     694.200012   \n881         0.25        1       121.099999     588.599976   \n\n     Feedstock distribution  Cellulosic yield  Oil elasticity  \\\n0                      0.04         89.500000           0.206   \n1                      0.18         95.900002           0.277   \n2                      0.80         83.500000           0.445   \n3                      0.58         82.400002           0.291   \n4                      0.79         97.500000           0.443   \n..                      ...               ...             ...   \n877                    0.45         89.099998           0.363   \n878                    0.91         86.800003           0.318   \n879                    0.59         91.099998           0.410   \n880                    0.65         99.800003           0.355   \n881                    0.35         94.599998           0.283   \n\n     Demand elasticity  Electricity coproduction  oil supply shift  \\\n0               -0.469                      1.83             0.078   \n1               -0.380                      0.01            -0.032   \n2               -0.778                      0.25            -0.093   \n3               -0.334                      0.08            -0.086   \n4               -0.205                      1.59             0.073   \n..                 ...                       ...               ...   \n877             -0.387                      1.75            -0.015   \n878             -0.471                      0.75             0.023   \n879             -0.567                      0.22             0.062   \n880             -0.368                      1.62             0.017   \n881             -0.332                      1.18            -0.007   \n\n     Biomass backstop price  input record  Expen change  Incremental cost  \\\n0                162.199997          1001         60.00            276.47   \n1                150.300003          1002         19.42             85.07   \n2                135.800003          1003         17.76            200.11   \n3                 98.800003          1004         37.88            130.86   \n4                163.500000          1006         66.13            180.11   \n..                      ...           ...           ...               ...   \n877              170.500000          1995         74.22            265.56   \n878               96.199997          1996         35.97            163.70   \n879              137.100006          1997         35.96            200.64   \n880              145.399994          1998         41.42            126.74   \n881              124.300003          1999         62.17            207.96   \n\n     Less than 10%  Greater than 90%  \n0                0                 0  \n1                0                 0  \n2                0                 0  \n3                0                 0  \n4                0                 0  \n..             ...               ...  \n877              0                 0  \n878              0                 0  \n879              0                 0  \n880              0                 0  \n881              0                 0  \n\n[882 rows x 16 columns]",
      "text/html": "<div>\n<style scoped>\n    .dataframe tbody tr th:only-of-type {\n        vertical-align: middle;\n    }\n\n    .dataframe tbody tr th {\n        vertical-align: top;\n    }\n\n    .dataframe thead th {\n        text-align: right;\n    }\n</style>\n<table border=\"1\" class=\"dataframe\">\n  <thead>\n    <tr style=\"text-align: right;\">\n      <th></th>\n      <th>renew req %</th>\n      <th>Pricing</th>\n      <th>Cellulosic cost</th>\n      <th>Total biomass</th>\n      <th>Feedstock distribution</th>\n      <th>Cellulosic yield</th>\n      <th>Oil elasticity</th>\n      <th>Demand elasticity</th>\n      <th>Electricity coproduction</th>\n      <th>oil supply shift</th>\n      <th>Biomass backstop price</th>\n      <th>input record</th>\n      <th>Expen change</th>\n      <th>Incremental cost</th>\n      <th>Less than 10%</th>\n      <th>Greater than 90%</th>\n    </tr>\n  </thead>\n  <tbody>\n    <tr>\n      <th>0</th>\n      <td>0.25</td>\n      <td>1</td>\n      <td>124.900001</td>\n      <td>612.799988</td>\n      <td>0.04</td>\n      <td>89.500000</td>\n      <td>0.206</td>\n      <td>-0.469</td>\n      <td>1.83</td>\n      <td>0.078</td>\n      <td>162.199997</td>\n      <td>1001</td>\n      <td>60.00</td>\n      <td>276.47</td>\n      <td>0</td>\n      <td>0</td>\n    </tr>\n    <tr>\n      <th>1</th>\n      <td>0.25</td>\n      <td>1</td>\n      <td>67.300003</td>\n      <td>837.200012</td>\n      <td>0.18</td>\n      <td>95.900002</td>\n      <td>0.277</td>\n      <td>-0.380</td>\n      <td>0.01</td>\n      <td>-0.032</td>\n      <td>150.300003</td>\n      <td>1002</td>\n      <td>19.42</td>\n      <td>85.07</td>\n      <td>0</td>\n      <td>0</td>\n    </tr>\n    <tr>\n      <th>2</th>\n      <td>0.25</td>\n      <td>1</td>\n      <td>71.000000</td>\n      <td>740.400024</td>\n      <td>0.80</td>\n      <td>83.500000</td>\n      <td>0.445</td>\n      <td>-0.778</td>\n      <td>0.25</td>\n      <td>-0.093</td>\n      <td>135.800003</td>\n      <td>1003</td>\n      <td>17.76</td>\n      <td>200.11</td>\n      <td>0</td>\n      <td>0</td>\n    </tr>\n    <tr>\n      <th>3</th>\n      <td>0.25</td>\n      <td>1</td>\n      <td>80.099998</td>\n      <td>995.599976</td>\n      <td>0.58</td>\n      <td>82.400002</td>\n      <td>0.291</td>\n      <td>-0.334</td>\n      <td>0.08</td>\n      <td>-0.086</td>\n      <td>98.800003</td>\n      <td>1004</td>\n      <td>37.88</td>\n      <td>130.86</td>\n      <td>0</td>\n      <td>0</td>\n    </tr>\n    <tr>\n      <th>4</th>\n      <td>0.25</td>\n      <td>1</td>\n      <td>76.400002</td>\n      <td>476.399994</td>\n      <td>0.79</td>\n      <td>97.500000</td>\n      <td>0.443</td>\n      <td>-0.205</td>\n      <td>1.59</td>\n      <td>0.073</td>\n      <td>163.500000</td>\n      <td>1006</td>\n      <td>66.13</td>\n      <td>180.11</td>\n      <td>0</td>\n      <td>0</td>\n    </tr>\n    <tr>\n      <th>...</th>\n      <td>...</td>\n      <td>...</td>\n      <td>...</td>\n      <td>...</td>\n      <td>...</td>\n      <td>...</td>\n      <td>...</td>\n      <td>...</td>\n      <td>...</td>\n      <td>...</td>\n      <td>...</td>\n      <td>...</td>\n      <td>...</td>\n      <td>...</td>\n      <td>...</td>\n      <td>...</td>\n    </tr>\n    <tr>\n      <th>877</th>\n      <td>0.25</td>\n      <td>1</td>\n      <td>99.199997</td>\n      <td>511.600006</td>\n      <td>0.45</td>\n      <td>89.099998</td>\n      <td>0.363</td>\n      <td>-0.387</td>\n      <td>1.75</td>\n      <td>-0.015</td>\n      <td>170.500000</td>\n      <td>1995</td>\n      <td>74.22</td>\n      <td>265.56</td>\n      <td>0</td>\n      <td>0</td>\n    </tr>\n    <tr>\n      <th>878</th>\n      <td>0.25</td>\n      <td>1</td>\n      <td>102.400002</td>\n      <td>751.400024</td>\n      <td>0.91</td>\n      <td>86.800003</td>\n      <td>0.318</td>\n      <td>-0.471</td>\n      <td>0.75</td>\n      <td>0.023</td>\n      <td>96.199997</td>\n      <td>1996</td>\n      <td>35.97</td>\n      <td>163.70</td>\n      <td>0</td>\n      <td>0</td>\n    </tr>\n    <tr>\n      <th>879</th>\n      <td>0.25</td>\n      <td>1</td>\n      <td>100.000000</td>\n      <td>527.000000</td>\n      <td>0.59</td>\n      <td>91.099998</td>\n      <td>0.410</td>\n      <td>-0.567</td>\n      <td>0.22</td>\n      <td>0.062</td>\n      <td>137.100006</td>\n      <td>1997</td>\n      <td>35.96</td>\n      <td>200.64</td>\n      <td>0</td>\n      <td>0</td>\n    </tr>\n    <tr>\n      <th>880</th>\n      <td>0.25</td>\n      <td>1</td>\n      <td>108.300003</td>\n      <td>694.200012</td>\n      <td>0.65</td>\n      <td>99.800003</td>\n      <td>0.355</td>\n      <td>-0.368</td>\n      <td>1.62</td>\n      <td>0.017</td>\n      <td>145.399994</td>\n      <td>1998</td>\n      <td>41.42</td>\n      <td>126.74</td>\n      <td>0</td>\n      <td>0</td>\n    </tr>\n    <tr>\n      <th>881</th>\n      <td>0.25</td>\n      <td>1</td>\n      <td>121.099999</td>\n      <td>588.599976</td>\n      <td>0.35</td>\n      <td>94.599998</td>\n      <td>0.283</td>\n      <td>-0.332</td>\n      <td>1.18</td>\n      <td>-0.007</td>\n      <td>124.300003</td>\n      <td>1999</td>\n      <td>62.17</td>\n      <td>207.96</td>\n      <td>0</td>\n      <td>0</td>\n    </tr>\n  </tbody>\n</table>\n<p>882 rows × 16 columns</p>\n</div>"
     },
     "metadata": {},
     "execution_count": 8
    }
   ],
   "source": [
    "#Read the Data\n",
    "Bryant_Data = pd.read_csv(\"data/Bryant et al 2010.csv\")\n",
    "\n",
    "Bryant_Data"
   ]
  },
  {
   "cell_type": "markdown",
   "metadata": {},
   "source": [
    "# Rozenberg et al\n",
    "\n",
    "\n",
    "* The experiments are the first seven columns. The remainder specify whether a given experiment belongs to a given SSP.\n",
    "* Apply prim separately for each SSP\n",
    "* you have to play with the threshold for each SSP, the default of 0.8 is at times too high\n",
    "* if you look at the paper carefully, you will discover that they change some of the default parameters of PRIM\n"
   ]
  },
  {
   "cell_type": "code",
   "execution_count": 7,
   "metadata": {},
   "outputs": [
    {
     "output_type": "execute_result",
     "data": {
      "text/plain": "     inequalities  convergence  population  behaviors  technologies  fossils  \\\n0               0            2           0          0             0        0   \n1               0            2           0          0             0        0   \n2               0            2           0          0             0        1   \n3               0            2           0          0             0        1   \n4               0            2           0          0             1        0   \n..            ...          ...         ...        ...           ...      ...   \n281             1            1           2          1             0        1   \n282             1            1           2          1             1        0   \n283             1            1           2          1             1        0   \n284             1            1           2          1             1        1   \n285             1            1           2          1             1        1   \n\n     capital markets  SSP1  SSP2  SSP3  SSP4  SSP5  \n0                  0     0     0     0     0     0  \n1                  1     0     0     0     0     0  \n2                  0     0     0     0     0     0  \n3                  1     0     0     0     0     0  \n4                  0     0     1     0     0     0  \n..               ...   ...   ...   ...   ...   ...  \n281                1     0     0     0     0     0  \n282                0     1     0     0     0     0  \n283                1     1     0     0     0     0  \n284                0     0     0     0     0     0  \n285                1     1     0     0     0     0  \n\n[286 rows x 12 columns]",
      "text/html": "<div>\n<style scoped>\n    .dataframe tbody tr th:only-of-type {\n        vertical-align: middle;\n    }\n\n    .dataframe tbody tr th {\n        vertical-align: top;\n    }\n\n    .dataframe thead th {\n        text-align: right;\n    }\n</style>\n<table border=\"1\" class=\"dataframe\">\n  <thead>\n    <tr style=\"text-align: right;\">\n      <th></th>\n      <th>inequalities</th>\n      <th>convergence</th>\n      <th>population</th>\n      <th>behaviors</th>\n      <th>technologies</th>\n      <th>fossils</th>\n      <th>capital markets</th>\n      <th>SSP1</th>\n      <th>SSP2</th>\n      <th>SSP3</th>\n      <th>SSP4</th>\n      <th>SSP5</th>\n    </tr>\n  </thead>\n  <tbody>\n    <tr>\n      <th>0</th>\n      <td>0</td>\n      <td>2</td>\n      <td>0</td>\n      <td>0</td>\n      <td>0</td>\n      <td>0</td>\n      <td>0</td>\n      <td>0</td>\n      <td>0</td>\n      <td>0</td>\n      <td>0</td>\n      <td>0</td>\n    </tr>\n    <tr>\n      <th>1</th>\n      <td>0</td>\n      <td>2</td>\n      <td>0</td>\n      <td>0</td>\n      <td>0</td>\n      <td>0</td>\n      <td>1</td>\n      <td>0</td>\n      <td>0</td>\n      <td>0</td>\n      <td>0</td>\n      <td>0</td>\n    </tr>\n    <tr>\n      <th>2</th>\n      <td>0</td>\n      <td>2</td>\n      <td>0</td>\n      <td>0</td>\n      <td>0</td>\n      <td>1</td>\n      <td>0</td>\n      <td>0</td>\n      <td>0</td>\n      <td>0</td>\n      <td>0</td>\n      <td>0</td>\n    </tr>\n    <tr>\n      <th>3</th>\n      <td>0</td>\n      <td>2</td>\n      <td>0</td>\n      <td>0</td>\n      <td>0</td>\n      <td>1</td>\n      <td>1</td>\n      <td>0</td>\n      <td>0</td>\n      <td>0</td>\n      <td>0</td>\n      <td>0</td>\n    </tr>\n    <tr>\n      <th>4</th>\n      <td>0</td>\n      <td>2</td>\n      <td>0</td>\n      <td>0</td>\n      <td>1</td>\n      <td>0</td>\n      <td>0</td>\n      <td>0</td>\n      <td>1</td>\n      <td>0</td>\n      <td>0</td>\n      <td>0</td>\n    </tr>\n    <tr>\n      <th>...</th>\n      <td>...</td>\n      <td>...</td>\n      <td>...</td>\n      <td>...</td>\n      <td>...</td>\n      <td>...</td>\n      <td>...</td>\n      <td>...</td>\n      <td>...</td>\n      <td>...</td>\n      <td>...</td>\n      <td>...</td>\n    </tr>\n    <tr>\n      <th>281</th>\n      <td>1</td>\n      <td>1</td>\n      <td>2</td>\n      <td>1</td>\n      <td>0</td>\n      <td>1</td>\n      <td>1</td>\n      <td>0</td>\n      <td>0</td>\n      <td>0</td>\n      <td>0</td>\n      <td>0</td>\n    </tr>\n    <tr>\n      <th>282</th>\n      <td>1</td>\n      <td>1</td>\n      <td>2</td>\n      <td>1</td>\n      <td>1</td>\n      <td>0</td>\n      <td>0</td>\n      <td>1</td>\n      <td>0</td>\n      <td>0</td>\n      <td>0</td>\n      <td>0</td>\n    </tr>\n    <tr>\n      <th>283</th>\n      <td>1</td>\n      <td>1</td>\n      <td>2</td>\n      <td>1</td>\n      <td>1</td>\n      <td>0</td>\n      <td>1</td>\n      <td>1</td>\n      <td>0</td>\n      <td>0</td>\n      <td>0</td>\n      <td>0</td>\n    </tr>\n    <tr>\n      <th>284</th>\n      <td>1</td>\n      <td>1</td>\n      <td>2</td>\n      <td>1</td>\n      <td>1</td>\n      <td>1</td>\n      <td>0</td>\n      <td>0</td>\n      <td>0</td>\n      <td>0</td>\n      <td>0</td>\n      <td>0</td>\n    </tr>\n    <tr>\n      <th>285</th>\n      <td>1</td>\n      <td>1</td>\n      <td>2</td>\n      <td>1</td>\n      <td>1</td>\n      <td>1</td>\n      <td>1</td>\n      <td>1</td>\n      <td>0</td>\n      <td>0</td>\n      <td>0</td>\n      <td>0</td>\n    </tr>\n  </tbody>\n</table>\n<p>286 rows × 12 columns</p>\n</div>"
     },
     "metadata": {},
     "execution_count": 7
    }
   ],
   "source": [
    "Rozenberg_Data = pd.read_csv(\"data/Rozenberg et al 2014.csv\")\n",
    "Rozenberg_Data"
   ]
  },
  {
   "cell_type": "markdown",
   "metadata": {},
   "source": [
    "# Hamarat et al\n",
    "\n",
    "this is the most difficult dataset to analyze with prim. It has been generated using the ema_workbench and can be loaded with the `load_results` function. Experiments are of interest if the end state for `'fraction renewables'` is lower than the initial value.\n",
    "\n",
    "* PRIM struggles with finding a good explanation for this case, why?\n",
    "* [Dalal et al (2013)](https://www.sciencedirect.com/science/article/pii/S1364815213001345) suggest using PCA preprocessing. The ema_workbench supports this with the `pca_preprocess` function. See also examples/prim_PCA_preprocess.py. Does PCA preprocessing makes a difference for this case?\n"
   ]
  },
  {
   "cell_type": "code",
   "execution_count": null,
   "metadata": {},
   "outputs": [],
   "source": []
  }
 ],
 "metadata": {
  "anaconda-cloud": {},
  "kernelspec": {
   "display_name": "Python 3",
   "language": "python",
   "name": "python3"
  },
  "language_info": {
   "codemirror_mode": {
    "name": "ipython",
    "version": 3
   },
   "file_extension": ".py",
   "mimetype": "text/x-python",
   "name": "python",
   "nbconvert_exporter": "python",
   "pygments_lexer": "ipython3",
   "version": "3.7.7-final"
  },
  "latex_envs": {
   "LaTeX_envs_menu_present": true,
   "autocomplete": true,
   "bibliofile": "biblio.bib",
   "cite_by": "apalike",
   "current_citInitial": 1,
   "eqLabelWithNumbers": true,
   "eqNumInitial": 1,
   "hotkeys": {
    "equation": "Ctrl-E",
    "itemize": "Ctrl-I"
   },
   "labels_anchors": false,
   "latex_user_defs": false,
   "report_style_numbering": false,
   "user_envs_cfg": false
  }
 },
 "nbformat": 4,
 "nbformat_minor": 4
}