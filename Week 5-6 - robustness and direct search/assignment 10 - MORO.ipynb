{
 "cells": [
  {
   "cell_type": "markdown",
   "metadata": {},
   "source": [
    "# Multi-objective Robust Optimization (MORO)\n",
    "\n",
    "\n",
    "This exercise demostrates the application of MORO on the lake model. In contrast to the exercises in previous weeks, we will be using a slightly more sophisticated version of the problem. For details see the MORDM assignment for this week.\n",
    "\n",
    "## Setup MORO\n",
    "\n",
    "Many objective robust optimization aims at finding decisions that are robust with respect to the various deeply uncertain factors. For this, MORO evalues each candidate decision over a set of scenarios. For each outcome of interest, the robusntess over this set is calculated. A MOEA is used to maximize the robustness. \n",
    "\n",
    "For this assignment, we will be using a domain criterion as our robustness metric. The table below lists the rules that you should use for each outcome of interest.\n",
    "\n",
    "|Outcome of interest| threhsold  |\n",
    "|-------------------|------------|\n",
    "| Maximum pollution | $\\leq$ 0.75|\n",
    "| Inertia           | $\\geq$ 0.6 |\n",
    "| Reliability       | $\\geq$ 0.99|   \n",
    "| Utility           | $\\geq$ 0.75|\n",
    "\n",
    "**1) Implement a function for each outcome that takes a numpy array with results for the outcome of interest, and returns the robustness score**"
   ]
  },
  {
   "cell_type": "code",
   "execution_count": 2,
   "metadata": {},
   "outputs": [],
   "source": [
    "from ema_workbench import (Model, RealParameter, CategoricalParameter, ScalarOutcome,\n",
    "                           MultiprocessingEvaluator, ema_logging,\n",
    "                           Constant)\n",
    "\n",
    "from ema_workbench.em_framework.optimization import (HyperVolume,\n",
    "                                                     EpsilonProgress)\n",
    "from ema_workbench import Constraint\n",
    "\n",
    "import math\n",
    "import numpy as np\n",
    "from scipy.optimize import brentq\n",
    "import pandas as pd\n",
    "\n",
    "from dps_lake_model import lake_model"
   ]
  },
  {
   "cell_type": "code",
   "execution_count": 3,
   "metadata": {},
   "outputs": [],
   "source": [
    "ema_logging.log_to_stderr(ema_logging.INFO)\n",
    "\n",
    "#instantiate the model\n",
    "lake_model = Model('lakeproblem', function=lake_model)\n",
    "lake_model.time_horizon = 100 # used to specify the number of timesteps\n",
    "\n",
    "#specify uncertainties\n",
    "lake_model.uncertainties = [RealParameter('mean', 0.01, 0.05),\n",
    "                            RealParameter('stdev', 0.001, 0.005),\n",
    "                            RealParameter('b', 0.1, 0.45),\n",
    "                            RealParameter('q', 2.0, 4.5),\n",
    "                            RealParameter('delta', 0.93, 0.99)]\n",
    "\n",
    "# set levers\n",
    "lake_model.levers = [RealParameter(\"c1\", -2, 2),\n",
    "                            RealParameter(\"c2\", -2, 2),\n",
    "                            RealParameter(\"r1\", 0, 2),\n",
    "                            RealParameter(\"r2\", 0, 2),\n",
    "                            CategoricalParameter(\"w1\", np.linspace(0,1,10))\n",
    "                    ]\n",
    "\n",
    "#specify outcomes \n",
    "lake_model.outcomes = [ScalarOutcome('max_P', kind=ScalarOutcome.MINIMIZE),\n",
    "                       ScalarOutcome('utility', kind=ScalarOutcome.MAXIMIZE),\n",
    "                       ScalarOutcome('inertia', kind=ScalarOutcome.MAXIMIZE),\n",
    "                       ScalarOutcome('reliability', kind=ScalarOutcome.MAXIMIZE)]\n",
    "\n",
    "lake_model.constantcs = [Constant('alpha', 0.41),\n",
    "                         Constant('reps', 150)],"
   ]
  },
  {
   "cell_type": "code",
   "execution_count": 4,
   "metadata": {
    "collapsed": true
   },
   "outputs": [],
   "source": [
    "import functools\n",
    "\n",
    "def robustness(direction, threshold, data):\n",
    "    if direction == SMALLER:\n",
    "        return np.sum(data<=threshold)/data.shape[0]\n",
    "    else:\n",
    "        return np.sum(data>=threshold)/data.shape[0]\n",
    "\n",
    "def maxp(data):\n",
    "    return np.sum(data<=0.75)/data.shape[0]\n",
    "    \n",
    "SMALLER = 'SMALLER'\n",
    "LARGER = 'LARGER'\n",
    "\n",
    "maxp = functools.partial(robustness, SMALLER, 0.75)\n",
    "inertia = functools.partial(robustness, LARGER, 0.6)\n",
    "reliability = functools.partial(robustness, LARGER, 0.99)\n",
    "utility = functools.partial(robustness, LARGER, 0.75)\n",
    "\n",
    "\n",
    "MAXIMIZE = ScalarOutcome.MAXIMIZE\n",
    "MINIMIZE = ScalarOutcome.MINIMIZE\n",
    "\n",
    "robustness_functions = [ScalarOutcome('under 0.75 max_p', kind=MINIMIZE,\n",
    "                             variable_name='max_P', function=maxp),\n",
    "                       ScalarOutcome('over 0.99 reliability', kind=MAXIMIZE,\n",
    "                             variable_name='reliability', function=reliability),\n",
    "                       ScalarOutcome('over 0.6 inertia', kind=MAXIMIZE,\n",
    "                             variable_name='inertia', function=inertia),\n",
    "                       ScalarOutcome('over 0.75 utility', kind=MAXIMIZE,\n",
    "                             variable_name='utility', function=utility)]"
   ]
  },
  {
   "cell_type": "markdown",
   "metadata": {},
   "source": [
    "**2) Generate 4 random release policies, and evaluate them over 500 scenarios. Sample the scenarios using Monte Carlo sampling. Next evaulate your robustness function for 1, 2, 3, ... 500 scenarios for each outcome and visualize this. What can you tell about the convergernce of the robusntess metric as a function of the number of scenarios?**"
   ]
  },
  {
   "cell_type": "code",
   "execution_count": 5,
   "metadata": {
    "collapsed": true
   },
   "outputs": [],
   "source": [
    "from ema_workbench.em_framework import sample_uncertainties, MonteCarloSampler\n"
   ]
  },
  {
   "cell_type": "code",
   "execution_count": 6,
   "metadata": {},
   "outputs": [],
   "source": [
    "n_scenarios = 5\n",
    "scenarios = sample_uncertainties(lake_model, n_scenarios, MonteCarloSampler)"
   ]
  },
  {
   "cell_type": "code",
   "execution_count": 9,
   "metadata": {},
   "outputs": [
    {
     "output_type": "stream",
     "name": "stderr",
     "text": "[MainProcess/INFO] pool started\n[MainProcess/INFO] generation 0: 0/1000 nfe\n[MainProcess/INFO] generation 5: 500/1000 nfe\n[MainProcess/INFO] optimization completed, found 5 solutions\n[MainProcess/INFO] terminating pool\n"
    },
    {
     "output_type": "execute_result",
     "data": {
      "text/plain": "113.8843162059784"
     },
     "metadata": {},
     "execution_count": 9
    }
   ],
   "source": [
    "import time\n",
    "\n",
    "t0 = time.time()\n",
    "\n",
    "nfe = int(1000)\n",
    "with MultiprocessingEvaluator(lake_model) as evaluator:\n",
    "    robust_results = evaluator.robust_optimize(robustness_functions, scenarios,\n",
    "                            nfe=nfe, epsilons=[0.05,]*len(robustness_functions))\n",
    "\n",
    "t1 = time.time()\n",
    "\n",
    "total = t1-t0\n",
    "\n",
    "total"
   ]
  },
  {
   "cell_type": "code",
   "execution_count": 10,
   "metadata": {},
   "outputs": [],
   "source": [
    "n_scenarios = 10\n",
    "scenarios = sample_uncertainties(lake_model, n_scenarios, MonteCarloSampler)"
   ]
  },
  {
   "cell_type": "code",
   "execution_count": 11,
   "metadata": {},
   "outputs": [
    {
     "output_type": "stream",
     "name": "stderr",
     "text": "[MainProcess/INFO] pool started\n[MainProcess/INFO] generation 0: 0/1000 nfe\n[MainProcess/INFO] generation 5: 500/1000 nfe\n[MainProcess/INFO] optimization completed, found 11 solutions\n[MainProcess/INFO] terminating pool\n"
    },
    {
     "output_type": "execute_result",
     "data": {
      "text/plain": "223.06372904777527"
     },
     "metadata": {},
     "execution_count": 11
    }
   ],
   "source": [
    "t0 = time.time()\n",
    "\n",
    "nfe = int(1000)\n",
    "with MultiprocessingEvaluator(lake_model) as evaluator:\n",
    "    robust_results = evaluator.robust_optimize(robustness_functions, scenarios,\n",
    "                            nfe=nfe, epsilons=[0.05,]*len(robustness_functions))\n",
    "\n",
    "t1 = time.time()\n",
    "\n",
    "total = t1-t0\n",
    "\n",
    "total"
   ]
  },
  {
   "cell_type": "code",
   "execution_count": 12,
   "metadata": {},
   "outputs": [
    {
     "output_type": "execute_result",
     "data": {
      "text/plain": "          c1        c2        r1        r2  \\\n0  -1.722098  1.708165  1.319779  0.482007   \n1  -0.194383 -0.962334  1.733768  1.877204   \n2   0.861014 -0.891474  1.126841  1.901095   \n3   1.187957 -0.105700  1.806363  1.661622   \n4   0.556300  1.441195  0.856717  1.963617   \n5   1.025876 -0.329173  1.899433  1.669536   \n6   0.165647  0.650788  0.560876  1.076149   \n7  -0.163826  0.254696  1.251474  0.232010   \n8   0.290187 -1.021486  0.163138  0.862694   \n9   0.484942  0.495426  0.047149  1.101618   \n10  0.130510  1.028784  0.438986  1.380066   \n\n                                                   w1  under 0.75 max_p  \\\n0   Category('0.8888888888888888', 0.8888888888888...               0.0   \n1                                Category('1.0', 1.0)               0.7   \n2                                Category('1.0', 1.0)               0.4   \n3   Category('0.5555555555555556', 0.5555555555555...               0.2   \n4   Category('0.7777777777777777', 0.7777777777777...               0.5   \n5   Category('0.5555555555555556', 0.5555555555555...               0.3   \n6   Category('0.1111111111111111', 0.1111111111111...               0.6   \n7   Category('0.2222222222222222', 0.2222222222222...               0.8   \n8                                Category('1.0', 1.0)               0.8   \n9   Category('0.2222222222222222', 0.2222222222222...               0.4   \n10  Category('0.7777777777777777', 0.7777777777777...               0.1   \n\n    over 0.99 reliability  over 0.6 inertia  over 0.75 utility  \n0                     0.0               1.0                0.7  \n1                     0.7               1.0                0.3  \n2                     0.4               1.0                0.5  \n3                     0.2               1.0                0.6  \n4                     0.5               1.0                0.5  \n5                     0.3               1.0                0.6  \n6                     0.6               1.0                0.4  \n7                     0.8               1.0                0.2  \n8                     0.8               0.7                0.3  \n9                     0.4               0.9                0.6  \n10                    0.1               1.0                0.6  ",
      "text/html": "<div>\n<style scoped>\n    .dataframe tbody tr th:only-of-type {\n        vertical-align: middle;\n    }\n\n    .dataframe tbody tr th {\n        vertical-align: top;\n    }\n\n    .dataframe thead th {\n        text-align: right;\n    }\n</style>\n<table border=\"1\" class=\"dataframe\">\n  <thead>\n    <tr style=\"text-align: right;\">\n      <th></th>\n      <th>c1</th>\n      <th>c2</th>\n      <th>r1</th>\n      <th>r2</th>\n      <th>w1</th>\n      <th>under 0.75 max_p</th>\n      <th>over 0.99 reliability</th>\n      <th>over 0.6 inertia</th>\n      <th>over 0.75 utility</th>\n    </tr>\n  </thead>\n  <tbody>\n    <tr>\n      <td>0</td>\n      <td>-1.722098</td>\n      <td>1.708165</td>\n      <td>1.319779</td>\n      <td>0.482007</td>\n      <td>Category('0.8888888888888888', 0.8888888888888...</td>\n      <td>0.0</td>\n      <td>0.0</td>\n      <td>1.0</td>\n      <td>0.7</td>\n    </tr>\n    <tr>\n      <td>1</td>\n      <td>-0.194383</td>\n      <td>-0.962334</td>\n      <td>1.733768</td>\n      <td>1.877204</td>\n      <td>Category('1.0', 1.0)</td>\n      <td>0.7</td>\n      <td>0.7</td>\n      <td>1.0</td>\n      <td>0.3</td>\n    </tr>\n    <tr>\n      <td>2</td>\n      <td>0.861014</td>\n      <td>-0.891474</td>\n      <td>1.126841</td>\n      <td>1.901095</td>\n      <td>Category('1.0', 1.0)</td>\n      <td>0.4</td>\n      <td>0.4</td>\n      <td>1.0</td>\n      <td>0.5</td>\n    </tr>\n    <tr>\n      <td>3</td>\n      <td>1.187957</td>\n      <td>-0.105700</td>\n      <td>1.806363</td>\n      <td>1.661622</td>\n      <td>Category('0.5555555555555556', 0.5555555555555...</td>\n      <td>0.2</td>\n      <td>0.2</td>\n      <td>1.0</td>\n      <td>0.6</td>\n    </tr>\n    <tr>\n      <td>4</td>\n      <td>0.556300</td>\n      <td>1.441195</td>\n      <td>0.856717</td>\n      <td>1.963617</td>\n      <td>Category('0.7777777777777777', 0.7777777777777...</td>\n      <td>0.5</td>\n      <td>0.5</td>\n      <td>1.0</td>\n      <td>0.5</td>\n    </tr>\n    <tr>\n      <td>5</td>\n      <td>1.025876</td>\n      <td>-0.329173</td>\n      <td>1.899433</td>\n      <td>1.669536</td>\n      <td>Category('0.5555555555555556', 0.5555555555555...</td>\n      <td>0.3</td>\n      <td>0.3</td>\n      <td>1.0</td>\n      <td>0.6</td>\n    </tr>\n    <tr>\n      <td>6</td>\n      <td>0.165647</td>\n      <td>0.650788</td>\n      <td>0.560876</td>\n      <td>1.076149</td>\n      <td>Category('0.1111111111111111', 0.1111111111111...</td>\n      <td>0.6</td>\n      <td>0.6</td>\n      <td>1.0</td>\n      <td>0.4</td>\n    </tr>\n    <tr>\n      <td>7</td>\n      <td>-0.163826</td>\n      <td>0.254696</td>\n      <td>1.251474</td>\n      <td>0.232010</td>\n      <td>Category('0.2222222222222222', 0.2222222222222...</td>\n      <td>0.8</td>\n      <td>0.8</td>\n      <td>1.0</td>\n      <td>0.2</td>\n    </tr>\n    <tr>\n      <td>8</td>\n      <td>0.290187</td>\n      <td>-1.021486</td>\n      <td>0.163138</td>\n      <td>0.862694</td>\n      <td>Category('1.0', 1.0)</td>\n      <td>0.8</td>\n      <td>0.8</td>\n      <td>0.7</td>\n      <td>0.3</td>\n    </tr>\n    <tr>\n      <td>9</td>\n      <td>0.484942</td>\n      <td>0.495426</td>\n      <td>0.047149</td>\n      <td>1.101618</td>\n      <td>Category('0.2222222222222222', 0.2222222222222...</td>\n      <td>0.4</td>\n      <td>0.4</td>\n      <td>0.9</td>\n      <td>0.6</td>\n    </tr>\n    <tr>\n      <td>10</td>\n      <td>0.130510</td>\n      <td>1.028784</td>\n      <td>0.438986</td>\n      <td>1.380066</td>\n      <td>Category('0.7777777777777777', 0.7777777777777...</td>\n      <td>0.1</td>\n      <td>0.1</td>\n      <td>1.0</td>\n      <td>0.6</td>\n    </tr>\n  </tbody>\n</table>\n</div>"
     },
     "metadata": {},
     "execution_count": 12
    }
   ],
   "source": [
    "robust_results"
   ]
  },
  {
   "cell_type": "code",
   "execution_count": 8,
   "metadata": {},
   "outputs": [
    {
     "output_type": "execute_result",
     "data": {
      "text/plain": "<ema_workbench.em_framework.util.NamedObjectMap at 0x1a17e643d0>"
     },
     "metadata": {},
     "execution_count": 8
    }
   ],
   "source": []
  },
  {
   "cell_type": "markdown",
   "metadata": {},
   "source": [
    "## Searching for candidate solutions\n",
    "Set up the robust optimization problem using the robustness functions you have specified. Assume that you will need 50 scenarios for estimating the robustness. Use $\\epsilon$-progress and hypervolume to track convergence. Solve the optimization problem. As $\\epsilon$ values, you can assume 0.05 for each of the four robustness metrics.\n",
    "\n",
    "*note: this optimization problem is computationally very expensive. Develop and test your code using a sequential evaluator, a low number of function evaluations (e.g., 200), and a low number of scenarios (e.g., 5). Once everything seems to be working replace the sequential evaluator with an multiprocessing or ipyparallel evaluator, and increase the number of nfe and scenarios*.\n"
   ]
  },
  {
   "cell_type": "code",
   "execution_count": null,
   "metadata": {},
   "outputs": [],
   "source": []
  },
  {
   "cell_type": "markdown",
   "metadata": {},
   "source": [
    "**Plot your $\\epsilon$-progress to evaluate convergergence, and visualize the trade-offs using parallel coordinate plots**"
   ]
  },
  {
   "cell_type": "code",
   "execution_count": 33,
   "metadata": {
    "collapsed": true
   },
   "outputs": [],
   "source": []
  },
  {
   "cell_type": "markdown",
   "metadata": {},
   "source": [
    "**What does this plot tell us about the tradeoffs and conflicting objectives?**"
   ]
  },
  {
   "cell_type": "markdown",
   "metadata": {},
   "source": [
    "## Re-evaluate candidate solutions under uncertainty\n",
    "\n",
    "We have used only 50 scenarios for the optimization. Take the results and re-evaluate them over a larger set (assume 1000 scenarios). How different are your results? What does this imply for the assumption of 50 scenarios during robust optimization.\n",
    "\n",
    "*hint: use the to_dict method on a dataframe, next generate Policy objects in a list expression by iterating over the dicts returned by the to_dict method*"
   ]
  },
  {
   "cell_type": "code",
   "execution_count": null,
   "metadata": {
    "collapsed": true
   },
   "outputs": [],
   "source": []
  },
  {
   "cell_type": "markdown",
   "metadata": {},
   "source": [
    "## Comparison\n",
    "If you have time, import your solutions found for MORDM and re-evaluate them over the same set of scnearios as used for re-evaluating the MORO results. Compare the robustness of MORDM and MORO, what do you observe?"
   ]
  },
  {
   "cell_type": "code",
   "execution_count": null,
   "metadata": {},
   "outputs": [],
   "source": []
  }
 ],
 "metadata": {
  "anaconda-cloud": {},
  "kernelspec": {
   "display_name": "Python 3",
   "language": "python",
   "name": "python3"
  },
  "language_info": {
   "codemirror_mode": {
    "name": "ipython",
    "version": 3
   },
   "file_extension": ".py",
   "mimetype": "text/x-python",
   "name": "python",
   "nbconvert_exporter": "python",
   "pygments_lexer": "ipython3",
   "version": "3.7.4-final"
  },
  "latex_envs": {
   "LaTeX_envs_menu_present": true,
   "autocomplete": true,
   "bibliofile": "biblio.bib",
   "cite_by": "apalike",
   "current_citInitial": 1,
   "eqLabelWithNumbers": true,
   "eqNumInitial": 1,
   "hotkeys": {
    "equation": "Ctrl-E",
    "itemize": "Ctrl-I"
   },
   "labels_anchors": false,
   "latex_user_defs": false,
   "report_style_numbering": false,
   "user_envs_cfg": false
  }
 },
 "nbformat": 4,
 "nbformat_minor": 2
}